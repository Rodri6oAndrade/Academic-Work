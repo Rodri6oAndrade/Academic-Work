{
 "cells": [
  {
   "cell_type": "code",
   "execution_count": 17,
   "metadata": {},
   "outputs": [],
   "source": [
    "# Importando o módulo de acesso ao SQLite\n",
    "import sqlite3\n",
    "\n",
    "# Criando uma conexão e o banco\n",
    "conexao = sqlite3.connect('monografia.db') \n",
    "\n",
    "# Criando um cursor\n",
    "cursor = conexao.cursor()"
   ]
  },
  {
   "cell_type": "code",
   "execution_count": 2,
   "metadata": {},
   "outputs": [
    {
     "data": {
      "text/plain": [
       "<sqlite3.Cursor at 0x1ca72cb6110>"
      ]
     },
     "execution_count": 2,
     "metadata": {},
     "output_type": "execute_result"
    }
   ],
   "source": [
    "# Cria a tabela Tab_averageRating e seus campos\n",
    "cursor.execute( 'create table if not exists Tab_averageRating '\\\n",
    "'(Titulo_id varchar(10) primary key, '\\\n",
    "'averageRating REAL, '\\\n",
    "'numVotes INTEGER)')"
   ]
  },
  {
   "cell_type": "code",
   "execution_count": 3,
   "metadata": {},
   "outputs": [],
   "source": [
    "#função de insert na tabela Tab_averageRating\n",
    "sql = 'INSERT INTO Tab_averageRating (Titulo_id, averageRating, numVotes) VALUES (?, ?, ?)'"
   ]
  },
  {
   "cell_type": "code",
   "execution_count": 4,
   "metadata": {},
   "outputs": [],
   "source": [
    "#Importar o modulo csv para pegar o arquivo .tsv separado por tabulação\n",
    "import csv\n",
    "\n",
    "#abri o arquivo e delimitar por Tabulação\n",
    "with open(\"C:/Users/rodri/Documents/Fundamentos_Python/Dados_Monografia/data.tsv\",'r') as tsv:\n",
    "    data_tsv = csv.reader(tsv, delimiter ='\\t')\n",
    "    \n",
    "    #Pula o cabeçalho do arquivo\n",
    "    next(data_tsv)\n",
    "    \n",
    "    #chama o arquivo e a função de inserção(sql)\n",
    "    for line in data_tsv:\n",
    "        cursor.execute(sql,line)\n",
    "\n",
    "# comita a inserção\n",
    "conexao.commit()"
   ]
  },
  {
   "cell_type": "code",
   "execution_count": 5,
   "metadata": {},
   "outputs": [
    {
     "data": {
      "text/plain": [
       "<sqlite3.Cursor at 0x1ca72cb6110>"
      ]
     },
     "execution_count": 5,
     "metadata": {},
     "output_type": "execute_result"
    }
   ],
   "source": [
    "# Cria a tabela Tab_genero_dos_filmes e seus campos\n",
    "cursor.execute( 'create table if not exists Tab_genero_dos_filmes '\\\n",
    "'(Titulo_id varchar(10), titleType varchar(50), isAdult INTEGER, duracao INTEGER, startYear INTEGER, generes varchar(100))')"
   ]
  },
  {
   "cell_type": "code",
   "execution_count": 6,
   "metadata": {},
   "outputs": [],
   "source": [
    "#função de insert na tabela Tab_averageRating\n",
    "sql2 = 'INSERT INTO Tab_genero_dos_filmes (Titulo_id, titleType, isAdult, duracao, startYear, generes) VALUES (?, ?, ?, ?, ?, ?)'"
   ]
  },
  {
   "cell_type": "code",
   "execution_count": 7,
   "metadata": {},
   "outputs": [],
   "source": [
    "import csv\n",
    "#abri o arquivo e delimitar por Tabulação\n",
    "with open(\"C:/Users/rodri/Documents/Fundamentos_Python/Dados_Monografia/data2.tsv\",encoding='utf8') as tsv:\n",
    "    data2_tsv = csv.DictReader(tsv, delimiter ='\\t')   \n",
    "    \n",
    "    for row in data2_tsv:\n",
    "        linhas = [row['tconst'], row['titleType'],row['isAdult'],row['runtimeMinutes'],row['startYear'],row['genres']]\n",
    "        cursor.execute(sql2,linhas)\n",
    "        \n",
    "# comita a inserção\n",
    "conexao.commit()"
   ]
  },
  {
   "cell_type": "code",
   "execution_count": 8,
   "metadata": {},
   "outputs": [
    {
     "data": {
      "text/plain": [
       "<sqlite3.Cursor at 0x1ca72cb6110>"
      ]
     },
     "execution_count": 8,
     "metadata": {},
     "output_type": "execute_result"
    }
   ],
   "source": [
    "# Cria a tabela Tab_temporadas_episodios e seus campos\n",
    "cursor.execute( 'create table if not exists Tab_temporadas_episodios '\\\n",
    "'(Titulo_id varchar(10) primary key, seasonNumber INTEGER, episodeNumber INTEGER)')"
   ]
  },
  {
   "cell_type": "code",
   "execution_count": 9,
   "metadata": {},
   "outputs": [],
   "source": [
    "#função de insert na tabela Tab_temporadas_episodios\n",
    "sql3 = 'INSERT INTO Tab_temporadas_episodios (Titulo_id, seasonNumber, episodeNumber) VALUES (?, ?, ?)'"
   ]
  },
  {
   "cell_type": "code",
   "execution_count": 10,
   "metadata": {},
   "outputs": [],
   "source": [
    "import csv\n",
    "#abri o arquivo e delimitar por Tabulação\n",
    "with open(\"C:/Users/rodri/Documents/Fundamentos_Python/Dados_Monografia/data3.tsv\",encoding='utf8') as tsv:\n",
    "    data3_tsv = csv.DictReader(tsv, delimiter ='\\t')   \n",
    "    \n",
    "    for row in data3_tsv:\n",
    "        linhas = [row['tconst'], row['seasonNumber'],row['episodeNumber']]\n",
    "        cursor.execute(sql3,linhas)\n",
    "        #print(linhas)\n",
    "\n",
    "# comita a inserção\n",
    "conexao.commit()"
   ]
  },
  {
   "cell_type": "code",
   "execution_count": 5,
   "metadata": {},
   "outputs": [],
   "source": [
    "# Join das duas tabelas\n",
    "cursor.execute('select Tab_averageRating.Titulo_id, averageRating, numVotes, '\\\n",
    "               'titleType, isAdult, startYear, CASE duracao WHEN \"\\\\N\" THEN 0 ELSE duracao END as duracao,  generes, '\\\n",
    "               'CASE seasonNumber WHEN \"\\\\N\" THEN 0 ELSE seasonNumber END as seasonNumber,  '\\\n",
    "               'CASE episodeNumber WHEN \"\\\\N\" THEN 0 ELSE episodeNumber END as episodeNumber '\\\n",
    "               'from Tab_averageRating INNER JOIN Tab_genero_dos_filmes '\\\n",
    "                                   'ON Tab_averageRating.Titulo_id = Tab_genero_dos_filmes.Titulo_id '\\\n",
    "                                      'INNER JOIN Tab_temporadas_episodios '\\\n",
    "                                   'ON Tab_averageRating.Titulo_id = Tab_temporadas_episodios.Titulo_id')\n",
    "\n",
    "# Recupera os resultados\n",
    "Join_Tab_aveRating_genFilmes_tempEpisodis = cursor.fetchall()"
   ]
  },
  {
   "cell_type": "code",
   "execution_count": 11,
   "metadata": {},
   "outputs": [
    {
     "data": {
      "text/plain": [
       "<sqlite3.Cursor at 0x1ca72cb6110>"
      ]
     },
     "execution_count": 11,
     "metadata": {},
     "output_type": "execute_result"
    }
   ],
   "source": [
    "# Cria a tabela Tab_Final e seus campos\n",
    "cursor.execute( 'create table if not exists Tab_Final_Filmes '\\\n",
    "'(Titulo_id varchar(10), averageRating REAL, numVotes INTEGER,'\\\n",
    "               'titleType varchar(50), num_titleType INTEGER, isAdult INTEGER, duracao INTEGER, '\\\n",
    "               ' startYear INTEGER, generes varchar(100),'\\\n",
    "               ' seasonNumber INTEGER, episodeNumber INTEGER)')"
   ]
  },
  {
   "cell_type": "code",
   "execution_count": 12,
   "metadata": {},
   "outputs": [],
   "source": [
    "#função de insert na tabela final\n",
    "cursor.execute( 'INSERT INTO Tab_Final_Filmes select Tab_averageRating.Titulo_id, averageRating, numVotes, '\\\n",
    "    'titleType, CASE titleType When \"short\" Then 1 When \"movie\" Then 2 When \"tvMovie\" Then 3 '\\\n",
    "                        'When \"tvSeries\" Then 4 When \"tvEpisode\" Then 5 When \"tvShort\" Then 6 '\\\n",
    "                        'When \"tvMiniSeries\" Then 7 When \"tvSpecial\" Then 8 When \"video\" Then 9 Else 10 End AS num_titleType, '\\\n",
    "               'isAdult,  CASE duracao WHEN \"\\\\N\" THEN 0 ELSE duracao END as duracao, startYear, '\\\n",
    "    'CASE generes WHEN \"\\\\N\" THEN 0 ELSE generes END as generes, '\\\n",
    "    'CASE seasonNumber WHEN \"\\\\N\" THEN 0 WHEN \"\" THEN \"0\" ELSE seasonNumber END as seasonNumber,  '\\\n",
    "    'CASE episodeNumber WHEN \"\\\\N\" THEN 0 WHEN \"\" THEN \"0\" ELSE episodeNumber END as episodeNumber '\\\n",
    "            'from Tab_averageRating left JOIN Tab_genero_dos_filmes '\\\n",
    "                                   'ON Tab_averageRating.Titulo_id = Tab_genero_dos_filmes.Titulo_id '\\\n",
    "                            'left JOIN Tab_temporadas_episodios '\\\n",
    "                                   'ON Tab_averageRating.Titulo_id = Tab_temporadas_episodios.Titulo_id')\n",
    "\n",
    "# comita a inserção\n",
    "conexao.commit()"
   ]
  },
  {
   "cell_type": "code",
   "execution_count": 13,
   "metadata": {},
   "outputs": [],
   "source": [
    "#função que altera os valores nulos das colunas seasonNumber e episodeNumber.\n",
    "cursor.execute(\"UPDATE Tab_Final_Filmes SET seasonNumber = 0 WHERE seasonNumber IS NULL\")\n",
    "cursor.execute(\"UPDATE Tab_Final_Filmes SET episodeNumber = 0 WHERE episodeNumber IS NULL\")\n",
    "\n",
    "# comita a inserção\n",
    "conexao.commit()\n"
   ]
  },
  {
   "cell_type": "code",
   "execution_count": 14,
   "metadata": {},
   "outputs": [],
   "source": [
    "#função que altera os valores os valores do campo generes\n",
    "cursor.execute(\"UPDATE Tab_Final_Filmes SET  generes = 'Acao' WHERE substr(generes,1,5) = 'Actio'\")\n",
    "cursor.execute(\"UPDATE Tab_Final_Filmes SET  generes = 'Adulto' WHERE substr(generes,1,5) = 'Adult'\")\n",
    "cursor.execute(\"UPDATE Tab_Final_Filmes SET  generes = 'Animacao' WHERE substr(generes,1,5) = 'Anima'\")\n",
    "cursor.execute(\"UPDATE Tab_Final_Filmes SET  generes = 'Aventura' WHERE substr(generes,1,5) in ('Adven','Game-') \")\n",
    "cursor.execute(\"UPDATE Tab_Final_Filmes SET  generes = 'Biografia' WHERE substr(generes,1,5) = 'Biogr' \")\n",
    "cursor.execute(\"UPDATE Tab_Final_Filmes SET  generes = 'Comedia' WHERE substr(generes,1,5) in ('Comed','Talk-') \")\n",
    "cursor.execute(\"UPDATE Tab_Final_Filmes SET  generes = 'Crime' WHERE substr(generes,1,5) = 'Crime' \")\n",
    "cursor.execute(\"UPDATE Tab_Final_Filmes SET  generes = 'Curtas' WHERE substr(generes,1,5) = 'Short' \")\n",
    "cursor.execute(\"UPDATE Tab_Final_Filmes SET  generes = 'Documentario' WHERE substr(generes,1,5) in ('Docum','Histo') \")\n",
    "cursor.execute(\"UPDATE Tab_Final_Filmes SET  generes = 'Drama' WHERE substr(generes,1,5) = 'Drama' \")\n",
    "cursor.execute(\"UPDATE Tab_Final_Filmes SET  generes = 'Esportes' WHERE substr(generes,1,5) = 'Sport' \")\n",
    "cursor.execute(\"UPDATE Tab_Final_Filmes SET  generes = 'Familia' WHERE substr(generes,1,5) = 'Famil' \")\n",
    "cursor.execute(\"UPDATE Tab_Final_Filmes SET  generes = 'Faroeste' WHERE substr(generes,1,5) = 'Weste' \")\n",
    "cursor.execute(\"UPDATE Tab_Final_Filmes SET  generes = 'Ficcao Cientifica' WHERE substr(generes,1,5) = 'Sci-F' \")\n",
    "cursor.execute(\"UPDATE Tab_Final_Filmes SET  generes = 'Guerra' WHERE substr(generes,1,5) in ('War', 'War,W')\")\n",
    "cursor.execute(\"UPDATE Tab_Final_Filmes SET  generes = 'Fantasia' WHERE substr(generes,1,5) in ('Myste', 'Fanta')\")\n",
    "cursor.execute(\"UPDATE Tab_Final_Filmes SET  generes = 'Musical' WHERE substr(generes,1,5) = 'Music' \")\n",
    "cursor.execute(\"UPDATE Tab_Final_Filmes SET  generes = 'Noticias' WHERE substr(generes,1,5) in ('News', 'News,')\")\n",
    "cursor.execute(\"UPDATE Tab_Final_Filmes SET  generes = 'Reality' WHERE substr(generes,1,5) = 'Reali' \")\n",
    "cursor.execute(\"UPDATE Tab_Final_Filmes SET  generes = 'Romance' WHERE substr(generes,1,5) = 'Roman'\")\n",
    "cursor.execute(\"UPDATE Tab_Final_Filmes SET  generes = 'Suspense' WHERE substr(generes,1,5) = 'Thril' \")\n",
    "cursor.execute(\"UPDATE Tab_Final_Filmes SET  generes = 'Terror' WHERE substr(generes,1,5) = 'Horro'\")\n",
    "cursor.execute(\"UPDATE Tab_Final_Filmes SET  generes = 'Não Identificado' WHERE substr(generes,1,5) in ('Film-', '0')\")\n",
    "\n",
    "\n",
    "\n",
    "# comita a inserção\n",
    "conexao.commit()"
   ]
  },
  {
   "cell_type": "code",
   "execution_count": 15,
   "metadata": {},
   "outputs": [
    {
     "data": {
      "text/plain": [
       "<sqlite3.Cursor at 0x1ca72cb6110>"
      ]
     },
     "execution_count": 15,
     "metadata": {},
     "output_type": "execute_result"
    }
   ],
   "source": [
    "#função que altera os valores os valores do campo e adulto, pois tem várias classificações que são adultas\n",
    "\n",
    "cursor.execute(\"UPDATE Tab_Final_Filmes SET  isAdult = 1 WHERE generes in ('Biografia', 'Crime', 'Documentário', 'Drama', 'Guerra', 'Notícias', 'Reality', 'Talk-Show', 'Terror') \")\n"
   ]
  },
  {
   "cell_type": "code",
   "execution_count": 18,
   "metadata": {},
   "outputs": [],
   "source": [
    "#exportando um arquvio de amostra no formato csv (;) para uma AASs para short-tvShort-video(1,6,9)\n",
    "import csv\n",
    "import random\n",
    "\n",
    "#Abri ou cria um arvivo e salva as amostras da tabela no arquivo.csv criado 'amostra.csv'\n",
    "with open('amostra_AASs_short-tvShort-video.csv', 'w', newline = '') as file:\n",
    "    csv_dados = csv.writer(file, delimiter = ';')\n",
    "    #Retorna o tamanho limite de amostra randomicamente\n",
    "    cursor.execute('select averageRating, numVotes, num_titleType, isAdult, duracao, startYear, generes '\\\n",
    "               ' from Tab_Final_Filmes where titleType <> \"videoGame\" and  '\\\n",
    "               ' generes <> \"Não Identificado\" and num_titleType in (1,6,9) and  numVotes > 5 '\\\n",
    "               ' and duracao > 0 ORDER BY RANDOM() limit 470')\n",
    "    table = cursor.fetchall()\n",
    "    csv_dados.writerow([\"Media_Classsificacao\",\"Numero_de_Votos\",\"Classificacao_Tipo_de_Titulo\",\"E_Adulto\",\"Minutos_de_Duracao\",\n",
    "                        \"Ano_da_Producaao\",\"Genero\"])\n",
    "    csv_dados.writerows(table)"
   ]
  },
  {
   "cell_type": "code",
   "execution_count": 21,
   "metadata": {},
   "outputs": [],
   "source": [
    "#exportando um arquvio de amostra no formato csv (;) para uma AASs para movie(2)\n",
    "import csv\n",
    "import random\n",
    "\n",
    "#Abri ou cria um arvivo e salva as amostras da tabela no arquivo.csv criado 'amostra.csv'\n",
    "with open('amostra_AASs_movie.csv', 'w', newline = '') as file:\n",
    "    csv_dados = csv.writer(file, delimiter = ';')\n",
    "    #Retorna o tamanho limite de amostra randomicamente\n",
    "    cursor.execute('select averageRating, numVotes, num_titleType, isAdult, duracao, startYear, generes '\\\n",
    "               ' from Tab_Final_Filmes where titleType <> \"videoGame\" and  '\\\n",
    "               ' generes <> \"Não Identificado\" and num_titleType in (2) and  numVotes > 5 '\\\n",
    "               ' and duracao > 0   ORDER BY RANDOM() limit 646')\n",
    "    table = cursor.fetchall()\n",
    "    csv_dados.writerow([\"Media_Classsificacao\",\"Numero_de_Votos\",\"Classificacao_Tipo_de_Titulo\",\"E_Adulto\",\"Minutos_de_Duracao\",\n",
    "                        \"Ano_da_Producaao\",\"Genero\"])\n",
    "    csv_dados.writerows(table)"
   ]
  },
  {
   "cell_type": "code",
   "execution_count": 20,
   "metadata": {},
   "outputs": [],
   "source": [
    "#exportando um arquvio de amostra no formato csv (;) para uma AASs para tvMovie-tvSpecial(3,7,8)\n",
    "import csv\n",
    "import random\n",
    "\n",
    "#Abri ou cria um arvivo e salva as amostras da tabela no arquivo.csv criado 'amostra.csv'\n",
    "with open('amostra_AASs_tvMovie-tvMiniserie-tvSpecial.csv', 'w', newline = '') as file:\n",
    "    csv_dados = csv.writer(file, delimiter = ';')\n",
    "    #Retorna o tamanho limite de amostra randomicamente\n",
    "    cursor.execute('select averageRating, numVotes, num_titleType, isAdult, duracao, startYear, generes '\\\n",
    "               ' from Tab_Final_Filmes where titleType <> \"videoGame\" and  '\\\n",
    "               ' generes <> \"Não Identificado\" and num_titleType in (3,7,8) and  numVotes > 5 '\\\n",
    "               ' and duracao > 0   ORDER BY RANDOM() limit 158')\n",
    "    table = cursor.fetchall()\n",
    "    csv_dados.writerow([\"averageRating\",\"numVotes\",\"num_titleType\",\"isAdult\",\"duracao\",\"startYear\",\n",
    "                        \"generes\"])\n",
    "    csv_dados.writerows(table)"
   ]
  },
  {
   "cell_type": "code",
   "execution_count": 19,
   "metadata": {},
   "outputs": [],
   "source": [
    "#exportando um arquvio de amostra no formato csv (;) para uma AASs para tvEpisode-tvSeries (5,4)\n",
    "import csv\n",
    "import random\n",
    "\n",
    "#Abri ou cria um arvivo e salva as amostras da tabela no arquivo.csv criado 'amostra.csv'\n",
    "with open('amostra_AASs_tvEpisode-tvSeries.csv', 'w', newline = '') as file:\n",
    "    csv_dados = csv.writer(file, delimiter = ';')\n",
    "    #Retorna o tamanho limite de amostra randomicamente\n",
    "    cursor.execute('select averageRating, numVotes, num_titleType, isAdult, duracao, startYear, generes, seasonNumber '\\\n",
    "               ',episodeNumber from Tab_Final_Filmes where titleType <> \"videoGame\" and  '\\\n",
    "               ' generes <> \"Não Identificado\" and num_titleType in (5,4) and  numVotes > 5 '\\\n",
    "               ' and duracao > 0   ORDER BY RANDOM() limit 1353')\n",
    "    table = cursor.fetchall()\n",
    "    csv_dados.writerow([\"Media_Classsificacao\",\"Numero_de_Votos\",\"Classificacao_Tipo_de_Titulo\",\"E_Adulto\",\"Minutos_de_Duracao\", \"Ano_da_Producao\",\n",
    "                        \"Genero\",\"Numero_de_Temporadas\",\"Numero_de_Episodios\"])\n",
    "    csv_dados.writerows(table)"
   ]
  },
  {
   "cell_type": "code",
   "execution_count": null,
   "metadata": {},
   "outputs": [],
   "source": [
    "#Teste para ver os valores que virão\n",
    "import pandas as pd\n",
    "file_name = open(\"amostra_AASs.csv\")\n",
    "df = pd.read_csv(file_name,header=None,delimiter = ';')\n",
    "df.head()"
   ]
  },
  {
   "cell_type": "code",
   "execution_count": null,
   "metadata": {},
   "outputs": [],
   "source": [
    "# Pega amostras por Amostragens Estratificada Proporcional gerando um objeto que carrega a concatenação das amostras.\n",
    "# Amostra AE porporcional com AAS sem reposição para categoria movie\n",
    "cursor.execute('select averageRating, numVotes, num_titleType, isAdult, duracao, generes, seasonNumber,episodeNumber '\\\n",
    "               ' from Tab_Final_Filmes where titleType = \"movie\" and  generes <> 0  ORDER BY RANDOM() limit 646')\n",
    "arq_movie = cursor.fetchall()\n",
    "\n",
    "# Amostra AE porporcional com AAS sem reposição para categoria short\n",
    "cursor.execute('select averageRating, numVotes, num_titleType, isAdult, duracao, generes, seasonNumber,episodeNumber '\\\n",
    "               ' from Tab_Final_Filmes where titleType = \"short\" and  generes <> 0 ORDER BY RANDOM() limit 321')\n",
    "arq_short = cursor.fetchall()\n",
    "\n",
    "# Amostra AE porporcional com AAS sem reposição para categoria tvEpisode\n",
    "cursor.execute('select averageRating, numVotes, num_titleType, isAdult, duracao, generes, seasonNumber,episodeNumber '\\\n",
    "               ' from Tab_Final_Filmes where titleType = \"tvEpisode\"  and  generes <> 0 ORDER BY RANDOM() limit 1180')\n",
    "arq_tvEpisode = cursor.fetchall()\n",
    "\n",
    "# Amostra AE porporcional com AAS sem reposição para categoria tvMiniSeries\n",
    "cursor.execute('select averageRating, numVotes, num_titleType, isAdult, duracao, generes, seasonNumber,episodeNumber '\\\n",
    "               ' from Tab_Final_Filmes where titleType = \"tvMiniSeries\"  and  generes <> 0 ORDER BY RANDOM() limit 24')\n",
    "arq_tvMiniSeries = cursor.fetchall()\n",
    "\n",
    "# Amostra AE porporcional com AAS sem reposição para categoria tvMovie\n",
    "cursor.execute('select averageRating, numVotes, num_titleType, isAdult, duracao, generes, seasonNumber,episodeNumber '\\\n",
    "               ' from Tab_Final_Filmes where titleType = \"tvMovie\"  and  generes <> 0 ORDER BY RANDOM() limit 114')\n",
    "arq_tvMovie = cursor.fetchall()\n",
    "\n",
    "# Amostra AE porporcional com AAS sem reposição para categoria tvSeries\n",
    "cursor.execute('select averageRating, numVotes, num_titleType, isAdult, duracao, generes, seasonNumber,episodeNumber '\\\n",
    "               ' from Tab_Final_Filmes where titleType = \"tvSeries\"  and  generes <> 0 ORDER BY RANDOM() limit 173')\n",
    "arq_tvSeries = cursor.fetchall()\n",
    "\n",
    "# Amostra AE porporcional com AAS sem reposição para categoria tvShort\n",
    "cursor.execute('select averageRating, numVotes, num_titleType, isAdult, duracao, generes, seasonNumber,episodeNumber '\\\n",
    "               ' from Tab_Final_Filmes where titleType = \"tvShort\"  and  generes <> 0 ORDER BY RANDOM() limit 8')\n",
    "arq_tvShort = cursor.fetchall()\n",
    "\n",
    "# Amostra AE porporcional com AAS sem reposição para categoria tvSpecial\n",
    "cursor.execute('select averageRating, numVotes, num_titleType, isAdult, duracao, generes, seasonNumber,episodeNumber '\\\n",
    "               ' from Tab_Final_Filmes where titleType = \"tvSpecial\"  and  generes <> 0 ORDER BY RANDOM() limit 20')\n",
    "arq_tvSpecial = cursor.fetchall()\n",
    "\n",
    "# Amostra AE porporcional com AAS sem reposição para categoria vídeo\n",
    "cursor.execute('select averageRating, numVotes, num_titleType, isAdult, duracao, generes, seasonNumber,episodeNumber '\\\n",
    "               ' from Tab_Final_Filmes where titleType = \"video\"  and  generes <> 0 ORDER BY RANDOM() limit 141')\n",
    "arq_video = cursor.fetchall()\n",
    "\n",
    "# Amostra AE porporcional com AAS sem reposição para o Arquivo final\n",
    "arq_amostra_AE = arq_movie + arq_short + arq_tvEpisode + arq_tvMiniSeries + \\\n",
    "                arq_tvMovie + arq_tvSeries + arq_tvShort + arq_tvSpecial + arq_video"
   ]
  },
  {
   "cell_type": "code",
   "execution_count": null,
   "metadata": {},
   "outputs": [],
   "source": [
    "#exportando um arquvio de amostra no formato csv(;) para uma AE com AASs\n",
    "import csv\n",
    "import random\n",
    "with open('amostra_AE.csv', 'w', newline = '') as file:\n",
    "    csv_dados_2 = csv.writer(file, delimiter = ';')\n",
    "    csv_dados_2.writerow([\"averageRating\",\"numVotes\",\"num_titleType\",\"isAdult\",\"E-duracao\",\n",
    "                          \"generes\",\"seasonNumber\",\"episodeNumber\"])\n",
    "    csv_dados_2.writerows(arq_amostra_AE)"
   ]
  },
  {
   "cell_type": "code",
   "execution_count": null,
   "metadata": {},
   "outputs": [],
   "source": [
    "#Teste para ver os valores que virão\n",
    "import pandas as pd\n",
    "file_name = open(\"amostra_AE.csv\")\n",
    "df = pd.read_csv(file_name,header=None,delimiter = ';')\n",
    "df.head()"
   ]
  },
  {
   "cell_type": "code",
   "execution_count": 16,
   "metadata": {},
   "outputs": [],
   "source": [
    "# comandos fecha conexão e fecha cursor.\n",
    "cursor.close()\n",
    "conexao.close()"
   ]
  },
  {
   "cell_type": "code",
   "execution_count": null,
   "metadata": {},
   "outputs": [],
   "source": [
    "#Função deleta os dados do banco\n",
    "cursor.execute(\"DELETE FROM Tab_Final_Filmes\")\n",
    "# comita a inserção\n",
    "conexao.commit()"
   ]
  },
  {
   "cell_type": "code",
   "execution_count": 3,
   "metadata": {},
   "outputs": [],
   "source": [
    "#Função deleta os dados do banco\n",
    "cursor.execute(\"DROP TABLE Tab_Final_Filmes\")\n",
    "# comita a inserção\n",
    "conexao.commit()"
   ]
  },
  {
   "cell_type": "code",
   "execution_count": 20,
   "metadata": {},
   "outputs": [
    {
     "data": {
      "text/plain": [
       "[(910991,)]"
      ]
     },
     "execution_count": 20,
     "metadata": {},
     "output_type": "execute_result"
    }
   ],
   "source": [
    "cursor.execute('select distinct count(*) '\\\n",
    "               ' from Tab_Final_Filmes where generes <> \"Não Identificado\" and num_titleType not in (10)')\n",
    "              \n",
    "\n",
    "dados = cursor.fetchall()\n",
    "(dados)"
   ]
  },
  {
   "cell_type": "code",
   "execution_count": 15,
   "metadata": {},
   "outputs": [],
   "source": [
    "#exportando um arquvio de amostra no formato csv (;) para uma AASs - Este arquivos serão usados para calculo do \n",
    "import csv\n",
    "import random\n",
    "\n",
    "#Abri ou cria um arvivo e salva as amostras da tabela no arquivo.csv criado 'amostra.csv'\n",
    "with open('amostra_tvMiniserie.csv', 'w', newline = '') as file:\n",
    "    csv_dados = csv.writer(file, delimiter = ';')\n",
    "    #Retorna o tamanho limite de amostra randomicamente\n",
    "    cursor.execute('select averageRating from Tab_Final_Filmes where titleType <> \"videoGame\" and generes <> 0 '\\\n",
    "                   ' and num_titleType in (7)')\n",
    "    table = cursor.fetchall()\n",
    "    csv_dados.writerow([\"averageRating\"])\n",
    "    csv_dados.writerows(table)"
   ]
  },
  {
   "cell_type": "code",
   "execution_count": null,
   "metadata": {},
   "outputs": [],
   "source": [
    "#achar os desvios padrões de cada variavel tipo de filme\n",
    "#exportando um arquvio de amostra no formato csv(;)\n",
    "import csv\n",
    "import random\n",
    "\n",
    "#Abri ou cria um arvivo e salva as amostras da tabela no arquivo.csv criado 'amostra.csv'\n",
    "with open('amostra9.csv', 'w', newline = '') as file:\n",
    "    csv_dados = csv.writer(file, delimiter = ';')\n",
    "    #Retorna o tamanho limite de amostra randomicamente\n",
    "    cursor.execute('Select averageRating From Tab_Final_Filmes where num_titleType =9 '\\\n",
    "                   ' and generes <> 0 and num_titleType <> 10')\n",
    "    table = cursor.fetchall()\n",
    "    csv_dados.writerows(table)"
   ]
  }
 ],
 "metadata": {
  "kernelspec": {
   "display_name": "Python 3",
   "language": "python",
   "name": "python3"
  },
  "language_info": {
   "codemirror_mode": {
    "name": "ipython",
    "version": 3
   },
   "file_extension": ".py",
   "mimetype": "text/x-python",
   "name": "python",
   "nbconvert_exporter": "python",
   "pygments_lexer": "ipython3",
   "version": "3.8.5"
  }
 },
 "nbformat": 4,
 "nbformat_minor": 4
}
